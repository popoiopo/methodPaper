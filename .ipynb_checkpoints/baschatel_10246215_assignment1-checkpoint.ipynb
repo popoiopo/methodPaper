{
 "cells": [
  {
   "cell_type": "markdown",
   "metadata": {},
   "source": [
    "# Assignment 1: SIR model (ODE)\n",
    "## Problem 1 \n",
    "1. Numerically integrate the above ODEs for states of an epidemic, endemic, and\n",
    "no epidemic. What is the parameter that determines if the infectious disease will\n",
    "become an epidemic? Provide phase space diagrams, with analysis, of each of the\n",
    "three situations.\n",
    "\n",
    "If we would have \\begin{equation*} I' = aSI - bI \\end{equation*} where a is a constant representing the rate that people get sick (transmission coefficient), b is the constant representing the rate that people recover (recovery coefficient). S are the susceptible but not yet infected individuals in the population, I is the number of infectious individuals in the population and R are the recovered people that have immunity to the decease. \n",
    "\n",
    "This equation can be rewritten as \\begin{equation*} I' = (aS - b)I \\end{equation*}\n",
    "If S would be bigger than b/a (I'>0), the epidemic would grow. If S would be smaller however (I'<0) the epidemic would shrink, or would never have gotten a foothold. So b/a is a threshold.\n",
    "\n",
    "This will be visualized in the next cell for each of the three situations using the python script seen underneath.\n"
   ]
  },
  {
   "cell_type": "code",
   "execution_count": 1,
   "metadata": {},
   "outputs": [],
   "source": [
    "# Import libraries\n",
    "import numpy as np\n",
    "import seaborn\n",
    "from scipy.integrate import odeint\n",
    "import matplotlib.pyplot as plt\n",
    "from scipy.optimize import curve_fit"
   ]
  },
  {
   "cell_type": "code",
   "execution_count": 2,
   "metadata": {},
   "outputs": [],
   "source": [
    "#################### Initialize all variables ####################\n",
    "\n",
    "# Initializing population size\n",
    "N = 763\n",
    "\n",
    "# Initializing time in days that SIR model will be monitored\n",
    "days = 31\n",
    "\n",
    "# Determine resolution of plots\n",
    "day_res = 15\n",
    "\n",
    "# Determine number of phases for phase plot\n",
    "n_phase = 10\n",
    "\n",
    "# Initializing amount of infectious and recovered people at time(t) = 0\n",
    "I0 = 1\n",
    "R0 = 0\n",
    "\n",
    "# Initializing transmission coefficient (beta), recovery coefficient (gamma)\n",
    "beta = 1.97\n",
    "gamma = 0.5\n",
    "\n",
    "# Calculating amount of remaining susceptible people\n",
    "S0 = N - I0 - R0\n",
    "\n",
    "# Create a grid to evenly distribute among days\n",
    "t = np.linspace(0, days, days * day_res)\n",
    "\n",
    "# Assignment data\n",
    "yfit = [3, 8, 28, 75, 221, 291, 255, 235, 190, 125, 70, 28, 12, 5]\n",
    "xfit = range(1, len(yfit) + 1)\n",
    "\n",
    "################## Death/birth rates implemented ##################\n",
    "\n",
    "# Death/birth rates natural and from infection\n",
    "# For problem 1, mu = 0, dr_infected = 0\n",
    "mu = 0\n",
    "dr_infected = 0\n",
    "\n",
    "########################## Carrier Model ##########################\n",
    "\n",
    "# Initializing carrier population size\n",
    "n_carrier = 0\n",
    "\n",
    "# Initializing carrier infected at t0\n",
    "IC0 = 150\n",
    "\n",
    "# Carrier transmission coefficient (nc_rate) death rate carriers (dr_carier)\n",
    "c_rate = 0.08\n",
    "dbr_carrier = 0.2\n",
    "\n",
    "# Calculating amount of susceptible carriers\n",
    "SC0 = n_carrier - IC0\n",
    "\n",
    "# Put initial values in vector\n",
    "y0 = S0, I0, R0, IC0, SC0\n",
    "\n",
    "# Take account for seasonal interaction\n",
    "seasonal = \"no\"\n",
    "days_beta = 365/12\n",
    "days_carrier = 365/6\n"
   ]
  },
  {
   "cell_type": "code",
   "execution_count": 3,
   "metadata": {},
   "outputs": [],
   "source": [
    "# Defining SIR model differential equations\n",
    "def deriv(y, t, beta, gamma):\n",
    "    S, I, R, IC, SC = y\n",
    "\n",
    "    # S,I delta for carriers, carries dont recover\n",
    "    if n_carrier > 0:\n",
    "        dSCdt = dbr_carrier * n_carrier - c_rate * SC * I / n_carrier - dbr_carrier * SC  \n",
    "        dICdt = c_rate * SC * I / n_carrier - dbr_carrier * IC\n",
    "    else:\n",
    "        dSCdt, dICdt, IC = 0, 0, 0\n",
    "    \n",
    "    # S,I,R delta for humans \n",
    "    dSdt = mu * N - beta * S * I / N - c_rate * IC * S - mu * S \n",
    "    dIdt = beta * S * I / N - gamma * I + c_rate * IC * S - mu * I - dr_infected * I\n",
    "    dRdt = gamma * I - mu * R\n",
    "     \n",
    "    return dSdt, dIdt, dRdt, dICdt, dSCdt\n",
    "\n",
    "# Defining SIScIcR model\n",
    "def deriv_school_beta(y, t, beta, gamma):\n",
    "    S, I, R, IC, SC = y\n",
    "    beta_new = beta * np.sin(2 * np.pi * t / days_beta) + beta\n",
    "    c_rate_new = -dbr_carrier * np.sin(2 * np.pi * t / days_carrier) + dbr_carrier \n",
    "    \n",
    "    # S,I delta for carriers, carries dont recover\n",
    "    if n_carrier > 0:\n",
    "        dSCdt = dbr_carrier * n_carrier - c_rate_new * SC * I / n_carrier - dbr_carrier * SC  \n",
    "        dICdt = c_rate_new * SC * I / n_carrier - dbr_carrier * IC\n",
    "    else:\n",
    "        dSCdt, dICdt, IC = 0, 0, 0\n",
    "    \n",
    "    # S,I,R delta for humans \n",
    "    dSdt = mu * N - beta_new * S * I / N - c_rate * IC * S - mu * S \n",
    "    dIdt = beta_new * S * I / N - gamma * I + c_rate * IC * S - mu * I - dr_infected * I\n",
    "    dRdt = gamma * I - mu * R\n",
    "     \n",
    "    return dSdt, dIdt, dRdt, dICdt, dSCdt\n",
    "\n",
    "# Defining the data fitting wrapper\n",
    "def wrap_fit(t, beta, gamma):\n",
    "    return odeint(deriv, y0, t, args=(beta, gamma))[:, 1]\n"
   ]
  },
  {
   "cell_type": "code",
   "execution_count": 4,
   "metadata": {},
   "outputs": [
    {
     "name": "stdout",
     "output_type": "stream",
     "text": [
      "Minimum ratio susceptibles to prevent outbreak:  0.24327103914076378\n",
      "Optimally fitted beta, gamma for problem 1:  1.9601860153250226 ,  0.47685648885731136\n",
      "Number of vaccinated people to prevent outbreak (problem 1):  577.3841971355972\n"
     ]
    }
   ],
   "source": [
    "# Integrate fitted model if no deaths occur (problem 1)\n",
    "if mu == 0 and days <= 31 and n_carrier == 0:\n",
    "    popt, popy = curve_fit(wrap_fit, xfit, yfit)    \n",
    "    ret_fit = odeint(deriv, y0, xfit, args=(popt[0], popt[1]))\n",
    "    beta = popt[0]\n",
    "    gamma = popt[1]\n",
    "    \n",
    "    # ratio wat susceptible kan zijn om outbreak te voorkomen\n",
    "    ratio = 1 / (beta / gamma)\n",
    "    nr_vaccin = (1 - ratio) * N\n",
    "    \n",
    "    print (\"Minimum ratio susceptibles to prevent outbreak: \", str(ratio))\n",
    "    print (\"Optimally fitted beta, gamma for problem 1: \", str(beta), \", \", str(gamma))\n",
    "    print (\"Number of vaccinated people to prevent outbreak (problem 1): \", str(nr_vaccin))\n",
    "    \n",
    "# Integrate the SIR equations over the time grid, t.\n",
    "if seasonal == \"yes\":\n",
    "    ret = odeint(deriv_school_beta, y0, t, args=(beta, gamma))\n",
    "    S, I, R, IC, SC = ret.T\n",
    "else:\n",
    "    ret = odeint(deriv, y0, t, args=(beta, gamma))\n",
    "    S, I, R, IC, SC = ret.T"
   ]
  },
  {
   "cell_type": "code",
   "execution_count": 5,
   "metadata": {
    "scrolled": true
   },
   "outputs": [
    {
     "name": "stderr",
     "output_type": "stream",
     "text": [
      "c:\\users\\bastiaan\\appdata\\local\\programs\\python\\python36\\lib\\site-packages\\matplotlib\\artist.py:896: MatplotlibDeprecationWarning: The set_axis_bgcolor function was deprecated in version 2.0. Use set_facecolor instead.\n",
      "  return func(v)\n"
     ]
    },
    {
     "data": {
      "image/png": "[encoded data removed]",
      "text/plain": [
       "<matplotlib.figure.Figure at 0x14cc7b683c8>"
      ]
     },
     "metadata": {},
     "output_type": "display_data"
    }
   ],
   "source": [
    "# Plot the data on three separate curves for S(t), I(t) and R(t)\n",
    "fig = plt.figure(facecolor='w')\n",
    "ax = fig.add_subplot(111, axis_bgcolor='#dddddd', axisbelow=True)\n",
    "\n",
    "# # Plot SIR\n",
    "ax.plot(t, S, 'b', alpha=0.5, lw=2, label='Susceptible')\n",
    "ax.plot(t, I, 'r', alpha=0.5, lw=2, label='Infected')\n",
    "ax.plot(t, R, 'g', alpha=0.5, lw=2, label='Recovered with immunity')\n",
    "\n",
    "# Plot SI carrier\n",
    "if n_carrier > 0:\n",
    "    ax.plot(t, SC, 'c', alpha=0.5, lw=2, label='Susceptible carrier')\n",
    "    ax.plot(t, IC, 'y', alpha=0.5, lw=2, label='Infected carrier')\n",
    "    \n",
    "# Plot real data problem 1 with fitted data\n",
    "if mu == 0 and days <= 31 and n_carrier == 0:\n",
    "    ax.plot(xfit, yfit, 'ko', alpha=0.6, label='Optimal Vaccination')\n",
    "    ax.plot(xfit, ret_fit[:, 1], 'purple', alpha=0.5, lw=2, label='Fitted data')\n",
    "    \n",
    "# Prettyfie that graph\n",
    "ax.set_xlabel('Time /days')\n",
    "ax.set_ylabel('Number')\n",
    "ax.set_ylim(0, N)\n",
    "ax.yaxis.set_tick_params(length=0)\n",
    "ax.xaxis.set_tick_params(length=0)\n",
    "ax.grid(b=True, which='major', c='w', lw=2, ls='-')\n",
    "legend = ax.legend()\n",
    "legend.get_frame().set_alpha(0.5)\n",
    "for spine in ('top', 'right', 'bottom', 'left'):\n",
    "    ax.spines[spine].set_visible(False)\n",
    "plt.show()"
   ]
  },
  {
   "cell_type": "code",
   "execution_count": 6,
   "metadata": {},
   "outputs": [
    {
     "name": "stderr",
     "output_type": "stream",
     "text": [
      "c:\\users\\bastiaan\\appdata\\local\\programs\\python\\python36\\lib\\site-packages\\matplotlib\\artist.py:896: MatplotlibDeprecationWarning: The set_axis_bgcolor function was deprecated in version 2.0. Use set_facecolor instead.\n",
      "  return func(v)\n"
     ]
    },
    {
     "ename": "TypeError",
     "evalue": "'float' object cannot be interpreted as an integer",
     "output_type": "error",
     "traceback": [
      "\u001b[1;31m---------------------------------------------------------------------------\u001b[0m",
      "\u001b[1;31mTypeError\u001b[0m                                 Traceback (most recent call last)",
      "\u001b[1;32m<ipython-input-6-437f5952c452>\u001b[0m in \u001b[0;36m<module>\u001b[1;34m()\u001b[0m\n\u001b[0;32m      3\u001b[0m \u001b[0max\u001b[0m \u001b[1;33m=\u001b[0m \u001b[0mfig\u001b[0m\u001b[1;33m.\u001b[0m\u001b[0madd_subplot\u001b[0m\u001b[1;33m(\u001b[0m\u001b[1;36m111\u001b[0m\u001b[1;33m,\u001b[0m \u001b[0maxis_bgcolor\u001b[0m\u001b[1;33m=\u001b[0m\u001b[1;34m'#dddddd'\u001b[0m\u001b[1;33m,\u001b[0m \u001b[0maxisbelow\u001b[0m\u001b[1;33m=\u001b[0m\u001b[1;32mTrue\u001b[0m\u001b[1;33m)\u001b[0m\u001b[1;33m\u001b[0m\u001b[0m\n\u001b[0;32m      4\u001b[0m \u001b[0mt\u001b[0m \u001b[1;33m=\u001b[0m \u001b[0mnp\u001b[0m\u001b[1;33m.\u001b[0m\u001b[0mlinspace\u001b[0m\u001b[1;33m(\u001b[0m\u001b[1;36m0\u001b[0m\u001b[1;33m,\u001b[0m \u001b[0mdays\u001b[0m\u001b[1;33m,\u001b[0m \u001b[0mdays\u001b[0m \u001b[1;33m*\u001b[0m \u001b[0mday_res\u001b[0m\u001b[1;33m)\u001b[0m\u001b[1;33m\u001b[0m\u001b[0m\n\u001b[1;32m----> 5\u001b[1;33m \u001b[0mphases\u001b[0m \u001b[1;33m=\u001b[0m \u001b[0mrange\u001b[0m\u001b[1;33m(\u001b[0m\u001b[1;36m0\u001b[0m\u001b[1;33m,\u001b[0m \u001b[0mN\u001b[0m\u001b[1;33m,\u001b[0m \u001b[0mN\u001b[0m\u001b[1;33m/\u001b[0m\u001b[0mn_phase\u001b[0m\u001b[1;33m)\u001b[0m\u001b[1;33m\u001b[0m\u001b[0m\n\u001b[0m\u001b[0;32m      6\u001b[0m \u001b[1;33m\u001b[0m\u001b[0m\n\u001b[0;32m      7\u001b[0m \u001b[1;31m# Print line for every phase\u001b[0m\u001b[1;33m\u001b[0m\u001b[1;33m\u001b[0m\u001b[0m\n",
      "\u001b[1;31mTypeError\u001b[0m: 'float' object cannot be interpreted as an integer"
     ]
    },
    {
     "data": {
      "image/png": "[encoded data removed]",
      "text/plain": [
       "<matplotlib.figure.Figure at 0x14cc9c730f0>"
      ]
     },
     "metadata": {},
     "output_type": "display_data"
    }
   ],
   "source": [
    "# Plot the data on three separate curves for S(t), I(t) and R(t)\n",
    "fig = plt.figure(facecolor='w')\n",
    "ax = fig.add_subplot(111, axis_bgcolor='#dddddd', axisbelow=True)\n",
    "t = np.linspace(0, days, days * day_res)\n",
    "phases = range(0, N, N/n_phase)\n",
    "\n",
    "# Print line for every phase\n",
    "for i in phases:\n",
    "    I0 = i\n",
    "    S0 = N - I0\n",
    "    y0 = S0, I0, R0, IC0, SC0\n",
    "    ret = odeint(deriv, y0, t, args=(beta, gamma))\n",
    "    S, I, R, IC, SC = ret.T\n",
    "    ax.plot(S, I)\n",
    "I0 = 1\n",
    "for i in phases:\n",
    "    R0 = i\n",
    "    S0 = N - I0 - R0\n",
    "    y0 = S0, I0, R0, IC0, SC0\n",
    "    ret = odeint(deriv, y0, t, args=(beta, gamma))\n",
    "    S, I, R, IC, SC = ret.T\n",
    "    ax.plot(S, I)\n",
    "if n_carrier > 0:\n",
    "    for i in phases:\n",
    "        n_carrier = i\n",
    "        S0 = N - I0 - R0\n",
    "        y0 = S0, I0, R0, IC0, SC0\n",
    "        ret = odeint(deriv, y0, t, args=(beta, gamma))\n",
    "        S, I, R, IC, SC = ret.T\n",
    "        ax.plot(S, I)\n",
    "# ax.plot([ratio * N, ratio * N], [0,N], 'b--', alpha=0.6, lw=1)\n",
    "# print ratio * N\n",
    "    \n",
    "# Prettyfie graph\n",
    "ax.set_xlabel('Recovered')\n",
    "ax.set_ylabel('Infected')\n",
    "ax.xaxis.set_tick_params(length=0)\n",
    "ax.yaxis.set_tick_params(length=0)\n",
    "ax.grid(b=True, which='major', c='w', lw=2, ls='-')\n",
    "for spine in ('top', 'right', 'bottom', 'left'):\n",
    "    ax.spines[spine].set_visible(False)\n",
    "plt.show()"
   ]
  },
  {
   "cell_type": "code",
   "execution_count": null,
   "metadata": {
    "scrolled": true
   },
   "outputs": [],
   "source": [
    "fourier = odeint(deriv, y0, t, args=(beta, gamma))[:,1]\n",
    "fouriere = np.fft.fft(fourier)\n",
    "freq = np.fft.fftfreq(t.shape[-1])\n",
    "y = abs(fouriere)\n",
    "\n",
    "fig = plt.figure(facecolor='w')\n",
    "ax = fig.add_subplot(111, axis_bgcolor='#dddddd', axisbelow=True)\n",
    "ax.set_xlim(-0.00001, 0.02)\n",
    "ax.set_ylim(0, 100000)\n",
    "ax.plot(freq, y, 'b', alpha=0.5, lw=2, label='fourier')\n",
    "ax.set_xlabel('Frequency')\n",
    "ax.set_ylabel('Amplitude')\n",
    "ax.yaxis.set_tick_params(length=0)\n",
    "ax.xaxis.set_tick_params(length=0)\n",
    "ax.grid(b=True, which='major', c='w', lw=2, ls='-')\n",
    "legend = ax.legend()\n",
    "legend.get_frame().set_alpha(0.5)\n",
    "for spine in ('top', 'right', 'bottom', 'left'):\n",
    "    ax.spines[spine].set_visible(False)\n",
    "plt.show()\n",
    "# nyquist"
   ]
  },
  {
   "cell_type": "code",
   "execution_count": null,
   "metadata": {},
   "outputs": [],
   "source": [
    "from mpl_toolkits import mplot3d\n",
    "import numpy as np\n",
    "import matplotlib.pyplot as plt\n",
    "\n",
    "# Plot the data on three separate curves for S(t), I(t) and R(t)\n",
    "fig = plt.figure()\n",
    "ax = fig.add_subplot(111, axis_bgcolor='#dddddd', axisbelow=True, projection='3d')\n",
    "ax.set_xlim3d(N +1,-0.1)\n",
    "ax.set_ylim3d(-0.1,N + 1)\n",
    "# ax.set_zlim3d(0.1, 350)\n",
    "t = np.linspace(0, days, days * 100)\n",
    "phases = range(0, N - 1, N/5)\n",
    "\n",
    "# Print line for every phase\n",
    "for i in phases:\n",
    "    I0 = i\n",
    "    S0 = N - I0\n",
    "    y0 = S0, I0, R0, IC0, SC0\n",
    "    ret = odeint(deriv, y0, t, args=(beta, gamma))\n",
    "    S, I, R, IC, SC = ret.T\n",
    "    ax.plot3D(S,I,IC)\n",
    "\n",
    "I0 = 1\n",
    "for i in phases:\n",
    "    R0 = i\n",
    "    S0 = N - I0 - R0\n",
    "    y0 = S0, I0, R0, IC0, SC0\n",
    "    ret = odeint(deriv, y0, t, args=(beta, gamma))\n",
    "    S, I, R, IC, SC = ret.T\n",
    "    ax.plot3D(S,I,IC)\n",
    "    \n",
    "for i in phases:\n",
    "    n_carrier = i\n",
    "    S0 = N - I0 - R0\n",
    "    y0 = S0, I0, R0, IC0, SC0\n",
    "    ret = odeint(deriv, y0, t, args=(beta, gamma))\n",
    "    S, I, R, IC, SC = ret.T\n",
    "    ax.plot3D(S,I,IC)\n",
    "    \n",
    "# Prettyfie graph\n",
    "ax.set_xlabel('Recovered')\n",
    "ax.set_ylabel('Infected')\n",
    "ax.set_zlabel('Carrier')\n",
    "plt.tight_layout(pad=-1, w_pad=-2.10, h_pad=-2.50)\n",
    "ax.view_init(30, -65)\n",
    "ax.xaxis.set_tick_params(length=0)\n",
    "ax.yaxis.set_tick_params(length=0)\n",
    "ax.grid(b=True, which='major', c='w', lw=2, ls='-')\n",
    "for spine in ('top', 'right', 'bottom', 'left'):\n",
    "    ax.spines[spine].set_visible(False)\n",
    "plt.show()\n"
   ]
  },
  {
   "cell_type": "code",
   "execution_count": null,
   "metadata": {},
   "outputs": [],
   "source": [
    "# fig = plt.figure()\n",
    "# for i in t:\n",
    "#     ax.plot(t, beta * np.sin(2 * np.pi * t / days_beta) + beta)\n",
    "# plt.show()"
   ]
  },
  {
   "cell_type": "code",
   "execution_count": null,
   "metadata": {},
   "outputs": [],
   "source": []
  },
  {
   "cell_type": "code",
   "execution_count": null,
   "metadata": {},
   "outputs": [],
   "source": []
  }
 ],
 "metadata": {
  "anaconda-cloud": {},
  "kernelspec": {
   "display_name": "Python 3",
   "language": "python",
   "name": "python3"
  },
  "language_info": {
   "codemirror_mode": {
    "name": "ipython",
    "version": 3
   },
   "file_extension": ".py",
   "mimetype": "text/x-python",
   "name": "python",
   "nbconvert_exporter": "python",
   "pygments_lexer": "ipython3",
   "version": "3.7.7"
  },
  "toc": {
   "base_numbering": 1,
   "nav_menu": {},
   "number_sections": true,
   "sideBar": true,
   "skip_h1_title": false,
   "title_cell": "Table of Contents",
   "title_sidebar": "Contents",
   "toc_cell": false,
   "toc_position": {},
   "toc_section_display": true,
   "toc_window_display": false
  }
 },
 "nbformat": 4,
 "nbformat_minor": 1
}
